{
 "cells": [
  {
   "cell_type": "code",
   "execution_count": 1,
   "metadata": {},
   "outputs": [],
   "source": [
    "import pandas as pd\n",
    "\n",
    "df = pd.read_csv('titanic.csv')\n",
    "features = df[['Pclass', 'Sex', 'Age', 'SibSp', 'Parch', 'Embarked']]\n",
    "targets = df['Fare']"
   ]
  },
  {
   "cell_type": "code",
   "execution_count": 2,
   "metadata": {},
   "outputs": [
    {
     "name": "stderr",
     "output_type": "stream",
     "text": [
      "/opt/anaconda3/lib/python3.7/site-packages/ipykernel_launcher.py:4: SettingWithCopyWarning: \n",
      "A value is trying to be set on a copy of a slice from a DataFrame.\n",
      "Try using .loc[row_indexer,col_indexer] = value instead\n",
      "\n",
      "See the caveats in the documentation: http://pandas.pydata.org/pandas-docs/stable/indexing.html#indexing-view-versus-copy\n",
      "  after removing the cwd from sys.path.\n",
      "/opt/anaconda3/lib/python3.7/site-packages/ipykernel_launcher.py:8: SettingWithCopyWarning: \n",
      "A value is trying to be set on a copy of a slice from a DataFrame.\n",
      "Try using .loc[row_indexer,col_indexer] = value instead\n",
      "\n",
      "See the caveats in the documentation: http://pandas.pydata.org/pandas-docs/stable/indexing.html#indexing-view-versus-copy\n",
      "  \n",
      "/opt/anaconda3/lib/python3.7/site-packages/ipykernel_launcher.py:9: SettingWithCopyWarning: \n",
      "A value is trying to be set on a copy of a slice from a DataFrame.\n",
      "Try using .loc[row_indexer,col_indexer] = value instead\n",
      "\n",
      "See the caveats in the documentation: http://pandas.pydata.org/pandas-docs/stable/indexing.html#indexing-view-versus-copy\n",
      "  if __name__ == '__main__':\n",
      "/opt/anaconda3/lib/python3.7/site-packages/ipykernel_launcher.py:10: SettingWithCopyWarning: \n",
      "A value is trying to be set on a copy of a slice from a DataFrame.\n",
      "Try using .loc[row_indexer,col_indexer] = value instead\n",
      "\n",
      "See the caveats in the documentation: http://pandas.pydata.org/pandas-docs/stable/indexing.html#indexing-view-versus-copy\n",
      "  # Remove the CWD from sys.path while we load stuff.\n"
     ]
    }
   ],
   "source": [
    "# 缺失值\n",
    "age_mean = features['Age'].mean()\n",
    "fare_mean = targets.mean()\n",
    "features['Age'] = features['Age'].fillna(age_mean)\n",
    "targets = targets.fillna(fare_mean)\n",
    "\n",
    "# Preprocessing\n",
    "features['Sex'] = features['Sex'].map({'female':0, 'male':1})\n",
    "features['Pclass'] = features['Pclass'] - 1\n",
    "features['Embarked'] = features['Embarked'].map({'C':0, 'Q':1, 'S':2})"
   ]
  },
  {
   "cell_type": "code",
   "execution_count": 3,
   "metadata": {},
   "outputs": [
    {
     "name": "stderr",
     "output_type": "stream",
     "text": [
      "Using TensorFlow backend.\n"
     ]
    }
   ],
   "source": [
    "from keras.utils import to_categorical\n",
    "\n",
    "# One-hot encoding\n",
    "Pclass = pd.DataFrame(to_categorical(features['Pclass'], num_classes=3, dtype=int))\n",
    "Embarked = pd.DataFrame(to_categorical(features['Embarked'], num_classes=3, dtype=int))"
   ]
  },
  {
   "cell_type": "code",
   "execution_count": 4,
   "metadata": {},
   "outputs": [
    {
     "name": "stderr",
     "output_type": "stream",
     "text": [
      "/opt/anaconda3/lib/python3.7/site-packages/ipykernel_launcher.py:5: SettingWithCopyWarning: \n",
      "A value is trying to be set on a copy of a slice from a DataFrame.\n",
      "Try using .loc[row_indexer,col_indexer] = value instead\n",
      "\n",
      "See the caveats in the documentation: http://pandas.pydata.org/pandas-docs/stable/indexing.html#indexing-view-versus-copy\n",
      "  \"\"\"\n",
      "/opt/anaconda3/lib/python3.7/site-packages/ipykernel_launcher.py:6: SettingWithCopyWarning: \n",
      "A value is trying to be set on a copy of a slice from a DataFrame.\n",
      "Try using .loc[row_indexer,col_indexer] = value instead\n",
      "\n",
      "See the caveats in the documentation: http://pandas.pydata.org/pandas-docs/stable/indexing.html#indexing-view-versus-copy\n",
      "  \n",
      "/opt/anaconda3/lib/python3.7/site-packages/ipykernel_launcher.py:7: SettingWithCopyWarning: \n",
      "A value is trying to be set on a copy of a slice from a DataFrame.\n",
      "Try using .loc[row_indexer,col_indexer] = value instead\n",
      "\n",
      "See the caveats in the documentation: http://pandas.pydata.org/pandas-docs/stable/indexing.html#indexing-view-versus-copy\n",
      "  import sys\n"
     ]
    }
   ],
   "source": [
    "# Normalize\n",
    "def min_max(data):\n",
    "    return (data - data.min()) / (data.max() - data.min())\n",
    "\n",
    "features['Age'] = min_max(features['Age'])\n",
    "features['SibSp'] = min_max(features['SibSp'])\n",
    "features['Parch'] = min_max(features['Parch'])"
   ]
  },
  {
   "cell_type": "code",
   "execution_count": 5,
   "metadata": {},
   "outputs": [],
   "source": [
    "features = pd.concat([features[['Sex', 'Age', 'SibSp', 'Parch']], Pclass, Embarked], axis=1).values\n",
    "targets = min_max(targets).values"
   ]
  },
  {
   "cell_type": "code",
   "execution_count": 6,
   "metadata": {},
   "outputs": [],
   "source": [
    "# 切割資料\n",
    "x_train = features[:1000]\n",
    "y_train = targets[:1000]\n",
    "x_test = features[1000:]\n",
    "y_test = targets[1000:]"
   ]
  },
  {
   "cell_type": "code",
   "execution_count": 7,
   "metadata": {},
   "outputs": [
    {
     "name": "stdout",
     "output_type": "stream",
     "text": [
      "WARNING:tensorflow:From /opt/anaconda3/lib/python3.7/site-packages/keras/backend/tensorflow_backend.py:66: The name tf.get_default_graph is deprecated. Please use tf.compat.v1.get_default_graph instead.\n",
      "\n",
      "Model: \"sequential_1\"\n",
      "_________________________________________________________________\n",
      "Layer (type)                 Output Shape              Param #   \n",
      "=================================================================\n",
      "dense_1 (Dense)              (None, 5)                 55        \n",
      "_________________________________________________________________\n",
      "dense_2 (Dense)              (None, 1)                 6         \n",
      "=================================================================\n",
      "Total params: 61\n",
      "Trainable params: 61\n",
      "Non-trainable params: 0\n",
      "_________________________________________________________________\n"
     ]
    }
   ],
   "source": [
    "from keras.models import Sequential\n",
    "from keras.layers import Dense\n",
    "\n",
    "model = Sequential()\n",
    "model.add(Dense(units=5, input_dim=10, activation='relu'))\n",
    "model.add(Dense(units=1, activation='sigmoid'))\n",
    "model.summary()"
   ]
  },
  {
   "cell_type": "code",
   "execution_count": 8,
   "metadata": {},
   "outputs": [
    {
     "name": "stdout",
     "output_type": "stream",
     "text": [
      "WARNING:tensorflow:From /opt/anaconda3/lib/python3.7/site-packages/keras/optimizers.py:793: The name tf.train.Optimizer is deprecated. Please use tf.compat.v1.train.Optimizer instead.\n",
      "\n"
     ]
    }
   ],
   "source": [
    "model.compile(loss='MSE', optimizer='adam')"
   ]
  },
  {
   "cell_type": "code",
   "execution_count": 9,
   "metadata": {},
   "outputs": [
    {
     "name": "stdout",
     "output_type": "stream",
     "text": [
      "Train on 800 samples, validate on 200 samples\n",
      "Epoch 1/50\n",
      "800/800 [==============================] - 1s 2ms/step - loss: 0.3129 - val_loss: 0.2984\n",
      "Epoch 2/50\n",
      "800/800 [==============================] - 0s 37us/step - loss: 0.2888 - val_loss: 0.2754\n",
      "Epoch 3/50\n",
      "800/800 [==============================] - 0s 35us/step - loss: 0.2671 - val_loss: 0.2555\n",
      "Epoch 4/50\n",
      "800/800 [==============================] - 0s 32us/step - loss: 0.2479 - val_loss: 0.2370\n",
      "Epoch 5/50\n",
      "800/800 [==============================] - 0s 33us/step - loss: 0.2298 - val_loss: 0.2190\n",
      "Epoch 6/50\n",
      "800/800 [==============================] - 0s 34us/step - loss: 0.2116 - val_loss: 0.2004\n",
      "Epoch 7/50\n",
      "800/800 [==============================] - 0s 32us/step - loss: 0.1933 - val_loss: 0.1824\n",
      "Epoch 8/50\n",
      "800/800 [==============================] - 0s 32us/step - loss: 0.1759 - val_loss: 0.1657\n",
      "Epoch 9/50\n",
      "800/800 [==============================] - 0s 34us/step - loss: 0.1597 - val_loss: 0.1496\n",
      "Epoch 10/50\n",
      "800/800 [==============================] - 0s 33us/step - loss: 0.1433 - val_loss: 0.1329\n",
      "Epoch 11/50\n",
      "800/800 [==============================] - 0s 36us/step - loss: 0.1266 - val_loss: 0.1171\n",
      "Epoch 12/50\n",
      "800/800 [==============================] - 0s 36us/step - loss: 0.1115 - val_loss: 0.1031\n",
      "Epoch 13/50\n",
      "800/800 [==============================] - 0s 34us/step - loss: 0.0977 - val_loss: 0.0896\n",
      "Epoch 14/50\n",
      "800/800 [==============================] - 0s 33us/step - loss: 0.0824 - val_loss: 0.0723\n",
      "Epoch 15/50\n",
      "800/800 [==============================] - 0s 33us/step - loss: 0.0657 - val_loss: 0.0576\n",
      "Epoch 16/50\n",
      "800/800 [==============================] - 0s 34us/step - loss: 0.0531 - val_loss: 0.0476\n",
      "Epoch 17/50\n",
      "800/800 [==============================] - 0s 34us/step - loss: 0.0442 - val_loss: 0.0403\n",
      "Epoch 18/50\n",
      "800/800 [==============================] - 0s 34us/step - loss: 0.0376 - val_loss: 0.0346\n",
      "Epoch 19/50\n",
      "800/800 [==============================] - 0s 32us/step - loss: 0.0324 - val_loss: 0.0300\n",
      "Epoch 20/50\n",
      "800/800 [==============================] - 0s 33us/step - loss: 0.0281 - val_loss: 0.0262\n",
      "Epoch 21/50\n",
      "800/800 [==============================] - 0s 32us/step - loss: 0.0248 - val_loss: 0.0232\n",
      "Epoch 22/50\n",
      "800/800 [==============================] - 0s 32us/step - loss: 0.0222 - val_loss: 0.0210\n",
      "Epoch 23/50\n",
      "800/800 [==============================] - 0s 32us/step - loss: 0.0202 - val_loss: 0.0192\n",
      "Epoch 24/50\n",
      "800/800 [==============================] - 0s 31us/step - loss: 0.0187 - val_loss: 0.0178\n",
      "Epoch 25/50\n",
      "800/800 [==============================] - 0s 34us/step - loss: 0.0174 - val_loss: 0.0167\n",
      "Epoch 26/50\n",
      "800/800 [==============================] - 0s 32us/step - loss: 0.0164 - val_loss: 0.0158\n",
      "Epoch 27/50\n",
      "800/800 [==============================] - 0s 33us/step - loss: 0.0156 - val_loss: 0.0150\n",
      "Epoch 28/50\n",
      "800/800 [==============================] - 0s 33us/step - loss: 0.0149 - val_loss: 0.0144\n",
      "Epoch 29/50\n",
      "800/800 [==============================] - 0s 33us/step - loss: 0.0143 - val_loss: 0.0138\n",
      "Epoch 30/50\n",
      "800/800 [==============================] - 0s 34us/step - loss: 0.0139 - val_loss: 0.0134\n",
      "Epoch 31/50\n",
      "800/800 [==============================] - 0s 33us/step - loss: 0.0134 - val_loss: 0.0130\n",
      "Epoch 32/50\n",
      "800/800 [==============================] - 0s 35us/step - loss: 0.0131 - val_loss: 0.0126\n",
      "Epoch 33/50\n",
      "800/800 [==============================] - 0s 35us/step - loss: 0.0127 - val_loss: 0.0123\n",
      "Epoch 34/50\n",
      "800/800 [==============================] - 0s 34us/step - loss: 0.0124 - val_loss: 0.0120\n",
      "Epoch 35/50\n",
      "800/800 [==============================] - 0s 34us/step - loss: 0.0122 - val_loss: 0.0117\n",
      "Epoch 36/50\n",
      "800/800 [==============================] - 0s 34us/step - loss: 0.0119 - val_loss: 0.0115\n",
      "Epoch 37/50\n",
      "800/800 [==============================] - 0s 33us/step - loss: 0.0117 - val_loss: 0.0113\n",
      "Epoch 38/50\n",
      "800/800 [==============================] - 0s 33us/step - loss: 0.0115 - val_loss: 0.0111\n",
      "Epoch 39/50\n",
      "800/800 [==============================] - 0s 33us/step - loss: 0.0113 - val_loss: 0.0109\n",
      "Epoch 40/50\n",
      "800/800 [==============================] - 0s 33us/step - loss: 0.0111 - val_loss: 0.0108\n",
      "Epoch 41/50\n",
      "800/800 [==============================] - 0s 35us/step - loss: 0.0110 - val_loss: 0.0106\n",
      "Epoch 42/50\n",
      "800/800 [==============================] - 0s 32us/step - loss: 0.0108 - val_loss: 0.0104\n",
      "Epoch 43/50\n",
      "800/800 [==============================] - 0s 32us/step - loss: 0.0107 - val_loss: 0.0103\n",
      "Epoch 44/50\n",
      "800/800 [==============================] - 0s 33us/step - loss: 0.0105 - val_loss: 0.0102\n",
      "Epoch 45/50\n",
      "800/800 [==============================] - 0s 34us/step - loss: 0.0104 - val_loss: 0.0100\n",
      "Epoch 46/50\n",
      "800/800 [==============================] - 0s 32us/step - loss: 0.0103 - val_loss: 0.0099\n",
      "Epoch 47/50\n",
      "800/800 [==============================] - 0s 37us/step - loss: 0.0101 - val_loss: 0.0098\n",
      "Epoch 48/50\n",
      "800/800 [==============================] - 0s 35us/step - loss: 0.0100 - val_loss: 0.0097\n",
      "Epoch 49/50\n",
      "800/800 [==============================] - 0s 34us/step - loss: 0.0099 - val_loss: 0.0096\n",
      "Epoch 50/50\n",
      "800/800 [==============================] - 0s 32us/step - loss: 0.0098 - val_loss: 0.0095\n"
     ]
    }
   ],
   "source": [
    "train_history = model.fit(x=x_train,\n",
    "                          y=y_train,\n",
    "                          validation_split=0.2,\n",
    "                          epochs=50,\n",
    "                          batch_size=50,\n",
    "                          verbose=1)"
   ]
  },
  {
   "cell_type": "code",
   "execution_count": 11,
   "metadata": {},
   "outputs": [
    {
     "data": {
      "image/png": "[encoded data removed]",
      "text/plain": [
       "<Figure size 432x288 with 1 Axes>"
      ]
     },
     "metadata": {
      "needs_background": "light"
     },
     "output_type": "display_data"
    }
   ],
   "source": [
    "import matplotlib.pyplot as plt\n",
    "\n",
    "plt.plot(train_history.history['loss'])\n",
    "plt.plot(train_history.history['val_loss'])\n",
    "plt.title('Loss')\n",
    "plt.ylabel('loss')\n",
    "plt.xlabel('epoch')\n",
    "plt.legend(['train', 'validation'], loc='upper right')\n",
    "plt.show()\n",
    "plt.close()"
   ]
  },
  {
   "cell_type": "code",
   "execution_count": 12,
   "metadata": {},
   "outputs": [
    {
     "name": "stdout",
     "output_type": "stream",
     "text": [
      "309/309 [==============================] - 0s 71us/step\n"
     ]
    }
   ],
   "source": [
    "test_loss = model.evaluate(x=x_test, y=y_test)\n",
    "y_predict = model.predict(x=x_test)"
   ]
  },
  {
   "cell_type": "code",
   "execution_count": null,
   "metadata": {},
   "outputs": [],
   "source": []
  }
 ],
 "metadata": {
  "kernelspec": {
   "display_name": "Python 3",
   "language": "python",
   "name": "python3"
  },
  "language_info": {
   "codemirror_mode": {
    "name": "ipython",
    "version": 3
   },
   "file_extension": ".py",
   "mimetype": "text/x-python",
   "name": "python",
   "nbconvert_exporter": "python",
   "pygments_lexer": "ipython3",
   "version": "3.7.3"
  }
 },
 "nbformat": 4,
 "nbformat_minor": 4
}
